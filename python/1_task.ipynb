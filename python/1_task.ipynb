{
 "cells": [
  {
   "cell_type": "markdown",
   "id": "caec52ff",
   "metadata": {},
   "source": [
    "# Самостоятельное задание\n",
    "\n",
    "Мы предлагаем вам потренироваться c логическими и побитовыми операторами."
   ]
  },
  {
   "cell_type": "code",
   "execution_count": 1,
   "id": "7fe7e97e",
   "metadata": {},
   "outputs": [],
   "source": [
    "a = True\n",
    "\n",
    "b = False"
   ]
  },
  {
   "cell_type": "code",
   "execution_count": 2,
   "id": "61c36d14",
   "metadata": {},
   "outputs": [
    {
     "data": {
      "text/plain": [
       "False"
      ]
     },
     "execution_count": 2,
     "metadata": {},
     "output_type": "execute_result"
    }
   ],
   "source": [
    "a and b"
   ]
  },
  {
   "cell_type": "markdown",
   "id": "06c53579",
   "metadata": {},
   "source": [
    "**Решите:**\n",
    "\n",
    "1. a and b\n",
    "\n",
    "2. (a and b) or b\n",
    "\n",
    "3. (a and b) or not (a and b)\n",
    "\n",
    "4. a and b or not (a or b) or b\n",
    "\n",
    "5. b and b or not a and (a or b or a) or not (a or b)\n",
    "\n",
    "6. 1 << 2\n",
    "\n",
    "7. 1 & 0 | 1 >> 1\n",
    "\n",
    "8. 1 & 0 | 1 >> 0\n",
    "\n",
    "9. 0b101 & 0b111 ^ 0b111 | 0b010  Комментарий: \"0b101\" - запись числа \"5\" на языке Python в двоичном виде "
   ]
  },
  {
   "cell_type": "code",
   "execution_count": 3,
   "id": "920897d0",
   "metadata": {},
   "outputs": [
    {
     "data": {
      "text/plain": [
       "False"
      ]
     },
     "execution_count": 3,
     "metadata": {},
     "output_type": "execute_result"
    }
   ],
   "source": [
    "(a and b) or b"
   ]
  },
  {
   "cell_type": "code",
   "execution_count": 4,
   "id": "237a5937",
   "metadata": {},
   "outputs": [
    {
     "data": {
      "text/plain": [
       "True"
      ]
     },
     "execution_count": 4,
     "metadata": {},
     "output_type": "execute_result"
    }
   ],
   "source": [
    "(a and b) or not (a and b)"
   ]
  },
  {
   "cell_type": "code",
   "execution_count": 5,
   "id": "6dde53c5",
   "metadata": {},
   "outputs": [
    {
     "data": {
      "text/plain": [
       "False"
      ]
     },
     "execution_count": 5,
     "metadata": {},
     "output_type": "execute_result"
    }
   ],
   "source": [
    "(a and b or not (a or b) or b)"
   ]
  },
  {
   "cell_type": "code",
   "execution_count": 6,
   "id": "73a62596",
   "metadata": {},
   "outputs": [
    {
     "data": {
      "text/plain": [
       "False"
      ]
     },
     "execution_count": 6,
     "metadata": {},
     "output_type": "execute_result"
    }
   ],
   "source": [
    "b and b or not a and (a or b or a) or not (a or b)"
   ]
  },
  {
   "cell_type": "code",
   "execution_count": 7,
   "id": "dde0f2cb",
   "metadata": {},
   "outputs": [
    {
     "data": {
      "text/plain": [
       "4"
      ]
     },
     "execution_count": 7,
     "metadata": {},
     "output_type": "execute_result"
    }
   ],
   "source": [
    "1 << 2"
   ]
  },
  {
   "cell_type": "code",
   "execution_count": 8,
   "id": "631d9a3a",
   "metadata": {},
   "outputs": [
    {
     "data": {
      "text/plain": [
       "0"
      ]
     },
     "execution_count": 8,
     "metadata": {},
     "output_type": "execute_result"
    }
   ],
   "source": [
    "1 & 0 | 1 >> 1"
   ]
  },
  {
   "cell_type": "code",
   "execution_count": 9,
   "id": "3d8a0194",
   "metadata": {},
   "outputs": [
    {
     "data": {
      "text/plain": [
       "1"
      ]
     },
     "execution_count": 9,
     "metadata": {},
     "output_type": "execute_result"
    }
   ],
   "source": [
    "1 & 0 | 1 >> 0"
   ]
  },
  {
   "cell_type": "code",
   "execution_count": 10,
   "id": "a4cd1c4a",
   "metadata": {},
   "outputs": [
    {
     "data": {
      "text/plain": [
       "2"
      ]
     },
     "execution_count": 10,
     "metadata": {},
     "output_type": "execute_result"
    }
   ],
   "source": [
    "0b101 & 0b111 ^ 0b111 | 0b010"
   ]
  },
  {
   "cell_type": "code",
   "execution_count": null,
   "id": "72750f20",
   "metadata": {},
   "outputs": [],
   "source": []
  }
 ],
 "metadata": {
  "kernelspec": {
   "display_name": "Python 3 (ipykernel)",
   "language": "python",
   "name": "python3"
  },
  "language_info": {
   "codemirror_mode": {
    "name": "ipython",
    "version": 3
   },
   "file_extension": ".py",
   "mimetype": "text/x-python",
   "name": "python",
   "nbconvert_exporter": "python",
   "pygments_lexer": "ipython3",
   "version": "3.9.12"
  }
 },
 "nbformat": 4,
 "nbformat_minor": 5
}
