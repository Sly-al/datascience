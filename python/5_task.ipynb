{
 "cells": [
  {
   "cell_type": "markdown",
   "id": "85755de8",
   "metadata": {},
   "source": [
    "# Самостоятельное задание #5\n",
    "\n",
    "\n",
    "### Задание 1\n",
    "\n",
    "Допишите функцию, которая принимает список, выбирает из него все элементы с четным индексом и возвращает их в виде списка."
   ]
  },
  {
   "cell_type": "code",
   "execution_count": 1,
   "id": "6ef6d9b3",
   "metadata": {},
   "outputs": [],
   "source": [
    "def chet(a):\n",
    "    ans = []\n",
    "    for i in range(len(a)):\n",
    "        if i % 2 == 0:\n",
    "            ans.append(a[i])\n",
    "    return ans"
   ]
  },
  {
   "cell_type": "code",
   "execution_count": 4,
   "id": "2eda6c42",
   "metadata": {},
   "outputs": [
    {
     "data": {
      "text/plain": [
       "[1, 3]"
      ]
     },
     "execution_count": 4,
     "metadata": {},
     "output_type": "execute_result"
    }
   ],
   "source": [
    "ans = [1,2,3,4]\n",
    "chet(ans)"
   ]
  },
  {
   "cell_type": "markdown",
   "id": "443974c9",
   "metadata": {},
   "source": [
    "### Задание 2\n",
    "\n",
    "Допишите функцию, которая принимает список, выбирает из него все элементы, которые больше предыдущего и возвращает их в виде списка.\n"
   ]
  },
  {
   "cell_type": "code",
   "execution_count": 5,
   "id": "3a8cf925",
   "metadata": {},
   "outputs": [],
   "source": [
    "def bol(a):\n",
    "    ans = []\n",
    "    for i in range(1, len(a)):\n",
    "        if (a[i] > a[i - 1]):\n",
    "            ans.append(a[i])\n",
    "    return ans"
   ]
  },
  {
   "cell_type": "code",
   "execution_count": 6,
   "id": "9f2ec6ed",
   "metadata": {},
   "outputs": [
    {
     "data": {
      "text/plain": [
       "[4, 5, 10]"
      ]
     },
     "execution_count": 6,
     "metadata": {},
     "output_type": "execute_result"
    }
   ],
   "source": [
    "a = [7,3,4,5,-1,10]\n",
    "bol(a)"
   ]
  },
  {
   "cell_type": "markdown",
   "id": "34524ede",
   "metadata": {},
   "source": [
    "### Задание 3\n",
    "\n",
    "Допишите функцию, которая принимает список, меняет местами наибольший и наименьший элементы и возвращает этот список."
   ]
  },
  {
   "cell_type": "code",
   "execution_count": 7,
   "id": "34d2beae",
   "metadata": {},
   "outputs": [],
   "source": [
    "def bol(a):\n",
    "    max_z = -1000\n",
    "    min_z = 1000\n",
    "    max_i = 0\n",
    "    min_i = 0\n",
    "    for i in range(len(a)):\n",
    "        if (a[i] > max_z):\n",
    "            max_z = a[i]\n",
    "            max_i = i\n",
    "        if (a[i] < min_z):\n",
    "            min_z = a[i]\n",
    "            min_i = i\n",
    "    a[min_i], a[max_i]  = a[max_i], a[min_i] \n",
    "    return a"
   ]
  },
  {
   "cell_type": "code",
   "execution_count": 8,
   "id": "4e1f386d",
   "metadata": {},
   "outputs": [
    {
     "data": {
      "text/plain": [
       "[45, 70, 11, 10]"
      ]
     },
     "execution_count": 8,
     "metadata": {},
     "output_type": "execute_result"
    }
   ],
   "source": [
    "a = [45, 10, 11, 70]\n",
    "bol(a)"
   ]
  }
 ],
 "metadata": {
  "kernelspec": {
   "display_name": "Python 3 (ipykernel)",
   "language": "python",
   "name": "python3"
  },
  "language_info": {
   "codemirror_mode": {
    "name": "ipython",
    "version": 3
   },
   "file_extension": ".py",
   "mimetype": "text/x-python",
   "name": "python",
   "nbconvert_exporter": "python",
   "pygments_lexer": "ipython3",
   "version": "3.9.12"
  }
 },
 "nbformat": 4,
 "nbformat_minor": 5
}
